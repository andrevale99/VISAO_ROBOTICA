{
 "cells": [
  {
   "cell_type": "code",
   "execution_count": null,
   "metadata": {},
   "outputs": [
    {
     "name": "stdout",
     "output_type": "stream",
     "text": [
      "/home/andre/Documents/Git/VISAO_ROBOTICA_EGM0008/05_FILTRAGEM_DE_IMAGENS\n",
      "['Lenna.png', 'carrinho.jpg', 'Einstein.png', 'everest.jpg', 'fabio.png']\n",
      "4.10.0\n"
     ]
    }
   ],
   "source": [
    "import cv2 as cv\n",
    "import matplotlib.pyplot as plt\n",
    "from matplotlib.pyplot import figure\n",
    "import numpy as np\n",
    "import os\n",
    "import importlib.util\n",
    "import sys\n",
    "\n",
    "spec = importlib.util.spec_from_file_location(\"funcoes\",\"../lib/funcoes.py\")\n",
    "funcoes = importlib.util.module_from_spec(spec)\n",
    "sys.modules[\"funcoes\"] = funcoes\n",
    "spec.loader.exec_module(funcoes)\n",
    "\n",
    "PATH_IMG = \"../IMAGENS/\"\n",
    "\n",
    "PATH = os.getcwd()\n",
    "\n",
    "print(os.getcwd())\n",
    "print(os.listdir(PATH_IMG))\n",
    "print(cv.__version__)\n",
    "\n",
    "img_original = cv.imread(PATH_IMG + os.listdir(PATH_IMG)[0])\n",
    "img_gray = cv.cvtColor(img_original, cv.COLOR_BGR2GRAY)"
   ]
  },
  {
   "cell_type": "code",
   "execution_count": null,
   "metadata": {},
   "outputs": [],
   "source": []
  }
 ],
 "metadata": {
  "kernelspec": {
   "display_name": "Python 3",
   "language": "python",
   "name": "python3"
  },
  "language_info": {
   "codemirror_mode": {
    "name": "ipython",
    "version": 3
   },
   "file_extension": ".py",
   "mimetype": "text/x-python",
   "name": "python",
   "nbconvert_exporter": "python",
   "pygments_lexer": "ipython3",
   "version": "3.9.10"
  }
 },
 "nbformat": 4,
 "nbformat_minor": 2
}
